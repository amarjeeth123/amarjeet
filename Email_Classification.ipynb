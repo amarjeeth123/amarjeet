{
  "nbformat": 4,
  "nbformat_minor": 0,
  "metadata": {
    "colab": {
      "provenance": [],
      "mount_file_id": "1fPA9i2PwO_nf3NfKgMH9UxHDxj9ux48p",
      "authorship_tag": "ABX9TyNhCSEdPjz/xZ+33UYkUxaI",
      "include_colab_link": true
    },
    "kernelspec": {
      "name": "python3",
      "display_name": "Python 3"
    },
    "language_info": {
      "name": "python"
    }
  },
  "cells": [
    {
      "cell_type": "markdown",
      "metadata": {
        "id": "view-in-github",
        "colab_type": "text"
      },
      "source": [
        "<a href=\"https://colab.research.google.com/github/amarjeeth123/amarjeet/blob/master/Email_Classification.ipynb\" target=\"_parent\"><img src=\"https://colab.research.google.com/assets/colab-badge.svg\" alt=\"Open In Colab\"/></a>"
      ]
    },
    {
      "cell_type": "code",
      "execution_count": 1,
      "metadata": {
        "id": "wxL2Om9iUdlr"
      },
      "outputs": [],
      "source": [
        "import pandas as pd\n",
        "df=pd.read_csv(\"/content/drive/MyDrive/datasets/emails.csv\")\n"
      ]
    },
    {
      "cell_type": "code",
      "source": [
        "print(df.info())"
      ],
      "metadata": {
        "colab": {
          "base_uri": "https://localhost:8080/"
        },
        "id": "1qjmoZJcVtwC",
        "outputId": "f8bccbd0-8e8f-4a2b-b628-a5077d1a1964"
      },
      "execution_count": 2,
      "outputs": [
        {
          "output_type": "stream",
          "name": "stdout",
          "text": [
            "<class 'pandas.core.frame.DataFrame'>\n",
            "RangeIndex: 5172 entries, 0 to 5171\n",
            "Columns: 3002 entries, Email No. to Prediction\n",
            "dtypes: int64(3001), object(1)\n",
            "memory usage: 118.5+ MB\n",
            "None\n"
          ]
        }
      ]
    },
    {
      "cell_type": "code",
      "source": [
        "print(df.head())"
      ],
      "metadata": {
        "colab": {
          "base_uri": "https://localhost:8080/"
        },
        "id": "8nj333IaV4RB",
        "outputId": "31d0afa0-39ac-44a7-c6d8-b96b1be484b3"
      },
      "execution_count": 3,
      "outputs": [
        {
          "output_type": "stream",
          "name": "stdout",
          "text": [
            "  Email No.  the  to  ect  and  for  of    a  you  hou  ...  connevey  jay  \\\n",
            "0   Email 1    0   0    1    0    0   0    2    0    0  ...         0    0   \n",
            "1   Email 2    8  13   24    6    6   2  102    1   27  ...         0    0   \n",
            "2   Email 3    0   0    1    0    0   0    8    0    0  ...         0    0   \n",
            "3   Email 4    0   5   22    0    5   1   51    2   10  ...         0    0   \n",
            "4   Email 5    7   6   17    1    5   2   57    0    9  ...         0    0   \n",
            "\n",
            "   valued  lay  infrastructure  military  allowing  ff  dry  Prediction  \n",
            "0       0    0               0         0         0   0    0           0  \n",
            "1       0    0               0         0         0   1    0           0  \n",
            "2       0    0               0         0         0   0    0           0  \n",
            "3       0    0               0         0         0   0    0           0  \n",
            "4       0    0               0         0         0   1    0           0  \n",
            "\n",
            "[5 rows x 3002 columns]\n"
          ]
        }
      ]
    },
    {
      "cell_type": "code",
      "source": [
        "print(df.tail())"
      ],
      "metadata": {
        "colab": {
          "base_uri": "https://localhost:8080/"
        },
        "id": "dUsnUmtTV-Ge",
        "outputId": "16bbe7cd-78c5-4814-8f66-3944cf84059e"
      },
      "execution_count": 4,
      "outputs": [
        {
          "output_type": "stream",
          "name": "stdout",
          "text": [
            "       Email No.  the  to  ect  and  for  of    a  you  hou  ...  connevey  \\\n",
            "5167  Email 5168    2   2    2    3    0   0   32    0    0  ...         0   \n",
            "5168  Email 5169   35  27   11    2    6   5  151    4    3  ...         0   \n",
            "5169  Email 5170    0   0    1    1    0   0   11    0    0  ...         0   \n",
            "5170  Email 5171    2   7    1    0    2   1   28    2    0  ...         0   \n",
            "5171  Email 5172   22  24    5    1    6   5  148    8    2  ...         0   \n",
            "\n",
            "      jay  valued  lay  infrastructure  military  allowing  ff  dry  \\\n",
            "5167    0       0    0               0         0         0   0    0   \n",
            "5168    0       0    0               0         0         0   1    0   \n",
            "5169    0       0    0               0         0         0   0    0   \n",
            "5170    0       0    0               0         0         0   1    0   \n",
            "5171    0       0    0               0         0         0   0    0   \n",
            "\n",
            "      Prediction  \n",
            "5167           0  \n",
            "5168           0  \n",
            "5169           1  \n",
            "5170           1  \n",
            "5171           0  \n",
            "\n",
            "[5 rows x 3002 columns]\n"
          ]
        }
      ]
    },
    {
      "cell_type": "code",
      "source": [
        "print(df.describe())"
      ],
      "metadata": {
        "colab": {
          "base_uri": "https://localhost:8080/"
        },
        "id": "6N7CoxyvWEVo",
        "outputId": "cc5a4409-bc82-4fe8-db8f-20481a4ffd45"
      },
      "execution_count": 5,
      "outputs": [
        {
          "output_type": "stream",
          "name": "stdout",
          "text": [
            "               the           to          ect          and          for  \\\n",
            "count  5172.000000  5172.000000  5172.000000  5172.000000  5172.000000   \n",
            "mean      6.640565     6.188128     5.143852     3.075599     3.124710   \n",
            "std      11.745009     9.534576    14.101142     6.045970     4.680522   \n",
            "min       0.000000     0.000000     1.000000     0.000000     0.000000   \n",
            "25%       0.000000     1.000000     1.000000     0.000000     1.000000   \n",
            "50%       3.000000     3.000000     1.000000     1.000000     2.000000   \n",
            "75%       8.000000     7.000000     4.000000     3.000000     4.000000   \n",
            "max     210.000000   132.000000   344.000000    89.000000    47.000000   \n",
            "\n",
            "                of            a          you          hou           in  ...  \\\n",
            "count  5172.000000  5172.000000  5172.000000  5172.000000  5172.000000  ...   \n",
            "mean      2.627030    55.517401     2.466551     2.024362    10.600155  ...   \n",
            "std       6.229845    87.574172     4.314444     6.967878    19.281892  ...   \n",
            "min       0.000000     0.000000     0.000000     0.000000     0.000000  ...   \n",
            "25%       0.000000    12.000000     0.000000     0.000000     1.000000  ...   \n",
            "50%       1.000000    28.000000     1.000000     0.000000     5.000000  ...   \n",
            "75%       2.000000    62.250000     3.000000     1.000000    12.000000  ...   \n",
            "max      77.000000  1898.000000    70.000000   167.000000   223.000000  ...   \n",
            "\n",
            "          connevey          jay       valued          lay  infrastructure  \\\n",
            "count  5172.000000  5172.000000  5172.000000  5172.000000     5172.000000   \n",
            "mean      0.005027     0.012568     0.010634     0.098028        0.004254   \n",
            "std       0.105788     0.199682     0.116693     0.569532        0.096252   \n",
            "min       0.000000     0.000000     0.000000     0.000000        0.000000   \n",
            "25%       0.000000     0.000000     0.000000     0.000000        0.000000   \n",
            "50%       0.000000     0.000000     0.000000     0.000000        0.000000   \n",
            "75%       0.000000     0.000000     0.000000     0.000000        0.000000   \n",
            "max       4.000000     7.000000     2.000000    12.000000        3.000000   \n",
            "\n",
            "          military     allowing           ff          dry   Prediction  \n",
            "count  5172.000000  5172.000000  5172.000000  5172.000000  5172.000000  \n",
            "mean      0.006574     0.004060     0.914733     0.006961     0.290023  \n",
            "std       0.138908     0.072145     2.780203     0.098086     0.453817  \n",
            "min       0.000000     0.000000     0.000000     0.000000     0.000000  \n",
            "25%       0.000000     0.000000     0.000000     0.000000     0.000000  \n",
            "50%       0.000000     0.000000     0.000000     0.000000     0.000000  \n",
            "75%       0.000000     0.000000     1.000000     0.000000     1.000000  \n",
            "max       4.000000     3.000000   114.000000     4.000000     1.000000  \n",
            "\n",
            "[8 rows x 3001 columns]\n"
          ]
        }
      ]
    },
    {
      "cell_type": "code",
      "source": [
        "print(df.duplicated().isnull)"
      ],
      "metadata": {
        "colab": {
          "base_uri": "https://localhost:8080/"
        },
        "id": "mesrAka1WYsX",
        "outputId": "ca356689-18ed-45a6-a1fd-e451759e8a2a"
      },
      "execution_count": 9,
      "outputs": [
        {
          "output_type": "stream",
          "name": "stdout",
          "text": [
            "<bound method Series.isnull of 0       False\n",
            "1       False\n",
            "2       False\n",
            "3       False\n",
            "4       False\n",
            "        ...  \n",
            "5167    False\n",
            "5168    False\n",
            "5169    False\n",
            "5170    False\n",
            "5171    False\n",
            "Length: 5172, dtype: bool>\n"
          ]
        }
      ]
    },
    {
      "cell_type": "code",
      "source": [
        "print(df[\"Prediction\"].unique())"
      ],
      "metadata": {
        "colab": {
          "base_uri": "https://localhost:8080/"
        },
        "id": "isvhyhpCXLC5",
        "outputId": "f8768af4-3812-4acf-8efa-cf3ca8ab0888"
      },
      "execution_count": 10,
      "outputs": [
        {
          "output_type": "stream",
          "name": "stdout",
          "text": [
            "[0 1]\n"
          ]
        }
      ]
    },
    {
      "cell_type": "code",
      "source": [
        "print(df[\"Prediction\"].value_counts())"
      ],
      "metadata": {
        "colab": {
          "base_uri": "https://localhost:8080/"
        },
        "id": "Lwk_bZYwXpxR",
        "outputId": "007dd608-6e90-42ec-881e-731ab12cf607"
      },
      "execution_count": 11,
      "outputs": [
        {
          "output_type": "stream",
          "name": "stdout",
          "text": [
            "Prediction\n",
            "0    3672\n",
            "1    1500\n",
            "Name: count, dtype: int64\n"
          ]
        }
      ]
    },
    {
      "cell_type": "code",
      "source": [
        "print(df.isnull().sum())"
      ],
      "metadata": {
        "colab": {
          "base_uri": "https://localhost:8080/"
        },
        "id": "2x3vU0Q6X0I3",
        "outputId": "5d7c1cff-c97a-41f3-ee49-8113b0afdb00"
      },
      "execution_count": 12,
      "outputs": [
        {
          "output_type": "stream",
          "name": "stdout",
          "text": [
            "Email No.     0\n",
            "the           0\n",
            "to            0\n",
            "ect           0\n",
            "and           0\n",
            "             ..\n",
            "military      0\n",
            "allowing      0\n",
            "ff            0\n",
            "dry           0\n",
            "Prediction    0\n",
            "Length: 3002, dtype: int64\n"
          ]
        }
      ]
    },
    {
      "cell_type": "code",
      "source": [
        "print(df.boxplot())"
      ],
      "metadata": {
        "colab": {
          "base_uri": "https://localhost:8080/",
          "height": 447
        },
        "id": "VrRDIpt7YBQ2",
        "outputId": "168752c2-863a-4b6c-ec23-8e56d4fbfd01"
      },
      "execution_count": 15,
      "outputs": [
        {
          "output_type": "stream",
          "name": "stdout",
          "text": [
            "Axes(0.125,0.11;0.775x0.77)\n"
          ]
        },
        {
          "output_type": "display_data",
          "data": {
            "text/plain": [
              "<Figure size 640x480 with 1 Axes>"
            ],
            "image/png": "[encoded data removed]"
          },
          "metadata": {}
        }
      ]
    }
  ]
}